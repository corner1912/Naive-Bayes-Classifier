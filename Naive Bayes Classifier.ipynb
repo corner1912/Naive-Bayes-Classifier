{
 "cells": [
  {
   "cell_type": "markdown",
   "id": "cb442d3b-e793-46ce-841f-dc8da8a369e2",
   "metadata": {},
   "source": [
    "# Assignment 01 - Naive Bayes Classifier"
   ]
  },
  {
   "cell_type": "code",
   "execution_count": 27,
   "id": "8e19bbda-f90d-4a87-8c18-e745d9139a06",
   "metadata": {},
   "outputs": [],
   "source": [
    "import pandas as pd\n",
    "import numpy as np\n",
    "import matplotlib.pyplot as plt\n",
    "import nltk\n",
    "from nltk.tokenize import sent_tokenize, word_tokenize\n",
    "from nltk.tokenize import MWETokenizer\n",
    "from nltk.corpus import stopwords\n",
    "from nltk.util import ngrams\n",
    "from nltk import stem\n",
    "import seaborn as sns\n",
    "import collections"
   ]
  },
  {
   "cell_type": "markdown",
   "id": "ca02c353-7466-41b4-8ffc-0bcef048f9e8",
   "metadata": {},
   "source": [
    "## 1. Data Loading"
   ]
  },
  {
   "cell_type": "code",
   "execution_count": 28,
   "id": "b8760f54-c398-421b-ba53-cbe628d9cf2c",
   "metadata": {},
   "outputs": [
    {
     "data": {
      "text/html": [
       "<div>\n",
       "<style scoped>\n",
       "    .dataframe tbody tr th:only-of-type {\n",
       "        vertical-align: middle;\n",
       "    }\n",
       "\n",
       "    .dataframe tbody tr th {\n",
       "        vertical-align: top;\n",
       "    }\n",
       "\n",
       "    .dataframe thead th {\n",
       "        text-align: right;\n",
       "    }\n",
       "</style>\n",
       "<table border=\"1\" class=\"dataframe\">\n",
       "  <thead>\n",
       "    <tr style=\"text-align: right;\">\n",
       "      <th></th>\n",
       "      <th>Unnamed: 0</th>\n",
       "      <th>type</th>\n",
       "      <th>review</th>\n",
       "      <th>label</th>\n",
       "      <th>file</th>\n",
       "    </tr>\n",
       "  </thead>\n",
       "  <tbody>\n",
       "    <tr>\n",
       "      <th>0</th>\n",
       "      <td>0</td>\n",
       "      <td>test</td>\n",
       "      <td>Once again Mr. Costner has dragged out a movie...</td>\n",
       "      <td>neg</td>\n",
       "      <td>0_2.txt</td>\n",
       "    </tr>\n",
       "    <tr>\n",
       "      <th>1</th>\n",
       "      <td>1</td>\n",
       "      <td>test</td>\n",
       "      <td>This is an example of why the majority of acti...</td>\n",
       "      <td>neg</td>\n",
       "      <td>10000_4.txt</td>\n",
       "    </tr>\n",
       "    <tr>\n",
       "      <th>2</th>\n",
       "      <td>2</td>\n",
       "      <td>test</td>\n",
       "      <td>First of all I hate those moronic rappers, who...</td>\n",
       "      <td>neg</td>\n",
       "      <td>10001_1.txt</td>\n",
       "    </tr>\n",
       "    <tr>\n",
       "      <th>3</th>\n",
       "      <td>3</td>\n",
       "      <td>test</td>\n",
       "      <td>Not even the Beatles could write songs everyon...</td>\n",
       "      <td>neg</td>\n",
       "      <td>10002_3.txt</td>\n",
       "    </tr>\n",
       "    <tr>\n",
       "      <th>4</th>\n",
       "      <td>4</td>\n",
       "      <td>test</td>\n",
       "      <td>Brass pictures (movies is not a fitting word f...</td>\n",
       "      <td>neg</td>\n",
       "      <td>10003_3.txt</td>\n",
       "    </tr>\n",
       "    <tr>\n",
       "      <th>...</th>\n",
       "      <td>...</td>\n",
       "      <td>...</td>\n",
       "      <td>...</td>\n",
       "      <td>...</td>\n",
       "      <td>...</td>\n",
       "    </tr>\n",
       "    <tr>\n",
       "      <th>99995</th>\n",
       "      <td>99995</td>\n",
       "      <td>train</td>\n",
       "      <td>Delightfully awful! Made by David Giancola, a ...</td>\n",
       "      <td>unsup</td>\n",
       "      <td>9998_0.txt</td>\n",
       "    </tr>\n",
       "    <tr>\n",
       "      <th>99996</th>\n",
       "      <td>99996</td>\n",
       "      <td>train</td>\n",
       "      <td>Watching Time Chasers, it obvious that it was ...</td>\n",
       "      <td>unsup</td>\n",
       "      <td>9999_0.txt</td>\n",
       "    </tr>\n",
       "    <tr>\n",
       "      <th>99997</th>\n",
       "      <td>99997</td>\n",
       "      <td>train</td>\n",
       "      <td>At the beginning we can see members of Troma t...</td>\n",
       "      <td>unsup</td>\n",
       "      <td>999_0.txt</td>\n",
       "    </tr>\n",
       "    <tr>\n",
       "      <th>99998</th>\n",
       "      <td>99998</td>\n",
       "      <td>train</td>\n",
       "      <td>The movie was incredible, ever since I saw it ...</td>\n",
       "      <td>unsup</td>\n",
       "      <td>99_0.txt</td>\n",
       "    </tr>\n",
       "    <tr>\n",
       "      <th>99999</th>\n",
       "      <td>99999</td>\n",
       "      <td>train</td>\n",
       "      <td>TCM came through by acquiring this wonderful, ...</td>\n",
       "      <td>unsup</td>\n",
       "      <td>9_0.txt</td>\n",
       "    </tr>\n",
       "  </tbody>\n",
       "</table>\n",
       "<p>100000 rows × 5 columns</p>\n",
       "</div>"
      ],
      "text/plain": [
       "       Unnamed: 0   type                                             review  \\\n",
       "0               0   test  Once again Mr. Costner has dragged out a movie...   \n",
       "1               1   test  This is an example of why the majority of acti...   \n",
       "2               2   test  First of all I hate those moronic rappers, who...   \n",
       "3               3   test  Not even the Beatles could write songs everyon...   \n",
       "4               4   test  Brass pictures (movies is not a fitting word f...   \n",
       "...           ...    ...                                                ...   \n",
       "99995       99995  train  Delightfully awful! Made by David Giancola, a ...   \n",
       "99996       99996  train  Watching Time Chasers, it obvious that it was ...   \n",
       "99997       99997  train  At the beginning we can see members of Troma t...   \n",
       "99998       99998  train  The movie was incredible, ever since I saw it ...   \n",
       "99999       99999  train  TCM came through by acquiring this wonderful, ...   \n",
       "\n",
       "       label         file  \n",
       "0        neg      0_2.txt  \n",
       "1        neg  10000_4.txt  \n",
       "2        neg  10001_1.txt  \n",
       "3        neg  10002_3.txt  \n",
       "4        neg  10003_3.txt  \n",
       "...      ...          ...  \n",
       "99995  unsup   9998_0.txt  \n",
       "99996  unsup   9999_0.txt  \n",
       "99997  unsup    999_0.txt  \n",
       "99998  unsup     99_0.txt  \n",
       "99999  unsup      9_0.txt  \n",
       "\n",
       "[100000 rows x 5 columns]"
      ]
     },
     "execution_count": 28,
     "metadata": {},
     "output_type": "execute_result"
    }
   ],
   "source": [
    "dataset_df = pd.read_csv('imdb_master.csv', encoding_errors = 'ignore')\n",
    "dataset_df"
   ]
  },
  {
   "cell_type": "code",
   "execution_count": 29,
   "id": "af499d86-458a-48a0-ae2c-f34203108322",
   "metadata": {},
   "outputs": [
    {
     "name": "stdout",
     "output_type": "stream",
     "text": [
      "['test' 'train']\n",
      "['neg' 'pos' 'unsup']\n"
     ]
    }
   ],
   "source": [
    "# check if the labels in these two columns are clean\n",
    "print(dataset_df['type'].unique())\n",
    "print(dataset_df['label'].unique())"
   ]
  },
  {
   "cell_type": "code",
   "execution_count": 30,
   "id": "84022398-f66f-440c-9e9c-68b7fd0c873e",
   "metadata": {},
   "outputs": [
    {
     "data": {
      "text/plain": [
       "\"Story of a man who has unnatural feelings for a pig. Starts out with a opening scene that is a terrific example of absurd comedy. A formal orchestra audience is turned into an insane, violent mob by the crazy chantings of it's singers. Unfortunately it stays absurd the WHOLE time with no general narrative eventually making it just too off putting. Even those from the era should be turned off. The cryptic dialogue would make Shakespeare seem easy to a third grader. On a technical level it's better than you might think with some good cinematography by future great Vilmos Zsigmond. Future stars Sally Kirkland and Frederic Forrest can be seen briefly.\""
      ]
     },
     "execution_count": 30,
     "metadata": {},
     "output_type": "execute_result"
    }
   ],
   "source": [
    "# split the data set into a training set and a test set\n",
    "training_set = dataset_df[dataset_df.type == 'train']      \n",
    "test_set = dataset_df[dataset_df.type == 'test']\n",
    "training_set['review'][25000]             # an example text                   "
   ]
  },
  {
   "cell_type": "code",
   "execution_count": 31,
   "id": "525a6407-76e4-48ce-b9a3-3a05c2552c63",
   "metadata": {},
   "outputs": [
    {
     "data": {
      "text/plain": [
       "0"
      ]
     },
     "execution_count": 31,
     "metadata": {},
     "output_type": "execute_result"
    }
   ],
   "source": [
    "# check if there is any null or NA in the training set\n",
    "np.sum(np.sum(training_set.isnull()))"
   ]
  },
  {
   "cell_type": "code",
   "execution_count": 32,
   "id": "1ed9dd57-8f76-4152-a5f6-79313d00eb55",
   "metadata": {},
   "outputs": [
    {
     "data": {
      "image/png": "[encoded data removed]",
      "text/plain": [
       "<Figure size 432x288 with 1 Axes>"
      ]
     },
     "metadata": {
      "needs_background": "light"
     },
     "output_type": "display_data"
    }
   ],
   "source": [
    "# check label distribution\n",
    "plt.hist(training_set.label)\n",
    "plt.show()"
   ]
  },
  {
   "cell_type": "markdown",
   "id": "0ecac5ce-0bcd-4a7b-9566-ce9c9099c2f9",
   "metadata": {},
   "source": [
    "## 2. Text Preprocessing"
   ]
  },
  {
   "cell_type": "markdown",
   "id": "4ab1cc53-872b-4b4c-90d4-89a3eda6eb1c",
   "metadata": {},
   "source": [
    "### 2.1 Training text generation \n",
    "use ' '.join() to link the texts together, then do case folding"
   ]
  },
  {
   "cell_type": "code",
   "execution_count": 33,
   "id": "a5fd92c6-fee4-47a3-a477-f4ddd86b07e8",
   "metadata": {},
   "outputs": [
    {
     "name": "stdout",
     "output_type": "stream",
     "text": [
      "16852166\n",
      "16299842\n"
     ]
    }
   ],
   "source": [
    "# this cell is to concatenate the texts in 'pos' and 'neg' together separately\n",
    "# and to turn all uppercase letters in the text into lowercase\n",
    "training_text_pos_ser = training_set['review'][training_set['label'] == 'pos']\n",
    "training_text_neg_ser = training_set['review'][training_set['label'] == 'neg']\n",
    "training_text_pos = ' '.join(training_text_pos_ser).lower()\n",
    "training_text_neg = ' '.join(training_text_neg_ser).lower()\n",
    "print(len(training_text_pos))\n",
    "print(len(training_text_neg))"
   ]
  },
  {
   "cell_type": "markdown",
   "id": "a0ad963b-4904-445f-a953-278af6201eee",
   "metadata": {},
   "source": [
    "### 2.2 Case folding and tokenization\n",
    "use 'word_tokenize' from nltk.tokenize for tokenization, and use MWETokenizer to re-tokenize the token lists (to deal with negate)"
   ]
  },
  {
   "cell_type": "code",
   "execution_count": 34,
   "id": "05d591c8-6aea-4784-8099-9d88fad5bd84",
   "metadata": {},
   "outputs": [
    {
     "name": "stdout",
     "output_type": "stream",
     "text": [
      "3559658\n"
     ]
    }
   ],
   "source": [
    "# tokenize the 'pos' text. This step may take several minutes\n",
    "training_text_pos_tokens_backup = word_tokenize(training_text_pos)\n",
    "training_text_pos_tokens = training_text_pos_tokens_backup.copy()\n",
    "print(len(training_text_pos_tokens))"
   ]
  },
  {
   "cell_type": "code",
   "execution_count": 35,
   "id": "3514e28d-b0e0-41eb-bc84-f6ef9b14080c",
   "metadata": {},
   "outputs": [
    {
     "name": "stdout",
     "output_type": "stream",
     "text": [
      "3505116\n"
     ]
    }
   ],
   "source": [
    "# tokenize the 'neg' text. This step may take several minutes\n",
    "training_text_neg_tokens_backup = word_tokenize(training_text_neg)\n",
    "training_text_neg_tokens = training_text_neg_tokens_backup.copy()\n",
    "print(len(training_text_neg_tokens))"
   ]
  },
  {
   "cell_type": "code",
   "execution_count": 36,
   "id": "0ccf3643-fb6d-4355-a73b-bf0e8ff6993e",
   "metadata": {},
   "outputs": [
    {
     "name": "stdout",
     "output_type": "stream",
     "text": [
      "6650\n"
     ]
    }
   ],
   "source": [
    "# retokenize bigrams like (\"n't\", \"like\"), (\"not\", \"like\") or (\"never\", \"like\") as \"n't_like\", \"not_like\" and \"never_like\" to deal with negate\n",
    "# This is the factor 4 I investigated, for more details, please the report\n",
    "# this cell is to make a re-tokenize list for re-tokenization\n",
    "training_text_tokens = training_text_pos_tokens + training_text_neg_tokens     # training_text_tokens is a combination of 'pos' and 'neg'\n",
    "training_text_tokens_set = set(training_text_tokens)                           # use 'set' to accelerate the search process                    \n",
    "MWE_list = []                                                                  # a re-tokenize list for re-tokenization\n",
    "\n",
    "bigram = list(ngrams(training_text_tokens, 2))          # all the bigrams\n",
    "bigram_freq = collections.Counter(bigram)               # the counts of all the bigrams\n",
    "\n",
    "for word in training_text_tokens_set:                   # if the count of a bigram like (\"n't\", 'like') is not 0, add this bigram to the list\n",
    "    if bigram_freq[(\"n't\", word)] != 0:                 # to the MWE list\n",
    "        MWE_list.append((\"n't\", word))\n",
    "    if bigram_freq[(\"not\", word)] != 0:\n",
    "        MWE_list.append((\"not\", word))\n",
    "    if bigram_freq[(\"never\", word)] != 0:\n",
    "        MWE_list.append((\"never\", word)) \n",
    "print(len(MWE_list))"
   ]
  },
  {
   "cell_type": "code",
   "execution_count": 37,
   "id": "e498e60d-0ee0-49fd-baad-a2a61fcf78d3",
   "metadata": {},
   "outputs": [
    {
     "name": "stdout",
     "output_type": "stream",
     "text": [
      "3528394\n",
      "3465118\n"
     ]
    }
   ],
   "source": [
    "# retokenize the 'pos' token list and 'neg' token list\n",
    "MWE_tokenizer = MWETokenizer(MWE_list)\n",
    "training_text_pos_tokens = MWE_tokenizer.tokenize(training_text_pos_tokens)\n",
    "training_text_neg_tokens = MWE_tokenizer.tokenize(training_text_neg_tokens)\n",
    "print(len(training_text_pos_tokens))\n",
    "print(len(training_text_neg_tokens))"
   ]
  },
  {
   "cell_type": "markdown",
   "id": "5e8048db-ef3a-4860-8824-593d7157d48e",
   "metadata": {},
   "source": [
    "### 2.3 Punctuation marks and stopwords removing\n",
    "use nltk stopwords list as the list of the words to remove"
   ]
  },
  {
   "cell_type": "code",
   "execution_count": 38,
   "id": "68dd3e1a-9050-4d39-a01b-1f544759e9e3",
   "metadata": {},
   "outputs": [],
   "source": [
    "# this is a binary search function for searching the range of a token\n",
    "def searchRange(nums, target):\n",
    "    if len(nums) == 0:\n",
    "        ans_list = [-1,-1]\n",
    "        return ans_list\n",
    "    \n",
    "    ans_list = []\n",
    "    n = len(nums)\n",
    "    l = 0\n",
    "    r = n-1\n",
    "    mid = int((l+r)/2)\n",
    "    \n",
    "    while l != r:\n",
    "    \n",
    "        while nums[mid] < target:\n",
    "            if l == r:\n",
    "                break\n",
    "                      \n",
    "            l = mid + 1\n",
    "            mid = int((l+r)/2)\n",
    "            if l == r:\n",
    "                break\n",
    "\n",
    "        while nums[mid] > target:\n",
    "            if l == r:\n",
    "                break\n",
    "            r = mid\n",
    "            mid = int((l+r)/2)\n",
    "            if l == r:\n",
    "                break\n",
    "        \n",
    "        if nums[mid] == target:\n",
    "            break\n",
    "\n",
    "    if nums[mid] == target:\n",
    "        l1 = l\n",
    "        r1 = mid\n",
    "        l2 = mid\n",
    "        r2 = r\n",
    "        mid1 = int((l1+r1)/2)\n",
    "        mid2 = int((l2+r2)/2)\n",
    "        \n",
    "        while l1 != r1:\n",
    "            \n",
    "            while nums[mid1] < target:\n",
    "                if nums[mid1+1] == target:\n",
    "                    mid1 = mid1 + 1\n",
    "                    break\n",
    "                l1 = mid1 + 1\n",
    "                mid1 = int((l1+r1)/2)\n",
    "                if l1==r1:\n",
    "                    break\n",
    "            while nums[mid1] == target:\n",
    "                if nums[mid1-1] != target:\n",
    "                    break\n",
    "                else:\n",
    "                    r1 = mid1\n",
    "                    mid1 = int((l1+r1)/2)\n",
    "                if l1==r1:\n",
    "                    break\n",
    "            if l1 == r1:\n",
    "                break\n",
    "            if nums[mid1] == target and nums[mid1-1] != target:\n",
    "                break\n",
    "                \n",
    "        while l2 != r2:\n",
    "            \n",
    "            while nums[mid2] > target:      \n",
    "                if nums[mid2-1] == target:  \n",
    "                    mid2 = mid2 - 1 \n",
    "                    break\n",
    "                r2 = mid2                   \n",
    "                mid2 = int((l2+r2)/2)       \n",
    "                if l2==r2:\n",
    "                    break\n",
    "            while nums[mid2] == target:     \n",
    "                if mid2+1 <= n-1 and nums[mid2+1] != target:  \n",
    "                    break\n",
    "                if mid2+1 > n-1:\n",
    "                    break\n",
    "                else:                       \n",
    "                    l2 = mid2+1\n",
    "                    mid2 = int((l2+r2)/2)\n",
    "                if l2==r2:\n",
    "                    break\n",
    "            if l2 == r2:\n",
    "                break\n",
    "            if nums[mid2] == target and nums[mid2+1] != target:\n",
    "                break\n",
    "        \n",
    "        ans_list.append(mid1)\n",
    "        ans_list.append(mid2)\n",
    "        \n",
    "    else:\n",
    "        ans_list.append(-1)\n",
    "        ans_list.append(-1)\n",
    "        \n",
    "    return ans_list"
   ]
  },
  {
   "cell_type": "code",
   "execution_count": 39,
   "id": "03160c60-cf8b-4f12-b019-9bc0f3d004b3",
   "metadata": {},
   "outputs": [
    {
     "name": "stdout",
     "output_type": "stream",
     "text": [
      "{'below', 'out', 'all', 'your', 'how', 'any', 'same', 'me', 'against', 'their', 'here', 'under', 'to', 'each', 're', 'doing', 'whom', 'why', 'my', \"that'll\", 'no', 'above', 'aren', 'needn', 'wouldn', 'other', \"it's\", 'few', 'been', 'about', 'he', 'themselves', \"should've\", 'ain', 'in', 'theirs', 's', 'doesn', 've', 'are', 'or', 'yours', 'hasn', 'and', 'itself', 'so', \"you're\", 'the', \"you'd\", 'when', 'own', 'wasn', 'which', 'further', 'shan', 'until', 'i', 'don', 'from', 'by', 'his', 'does', 'do', 'them', 'most', 'up', 'm', 'is', 'they', 'into', 'it', 'didn', 'haven', 'did', 'on', 'y', 'herself', 'being', 'down', 'before', 'were', 'some', 'have', 'as', 'while', 'at', 'during', 'himself', \"you've\", 'am', 'this', 'was', 'for', 'should', 'after', 'ma', 'our', 'those', 'where', 'because', 'of', 'if', 'you', 'yourself', 'nor', 'weren', 'has', 'her', 'there', 'that', 'mustn', \"she's\", 'ourselves', 'an', 'myself', 'off', 'hadn', 'only', 'again', 'o', 'through', 'its', 'than', 'a', 'what', 'these', 'him', 'we', \"you'll\", 'but', 'now', 'll', 'isn', 'with', 'just', 'once', 'then', 'yourselves', 'over', 'hers', 'will', 'had', 'won', 'ours', 'she', 'd', 'who', 'be', 'couldn', 'both', 't', 'mightn', 'very', 'between', 'can', 'having', 'shouldn', 'such', 'too', 'more'}\n"
     ]
    }
   ],
   "source": [
    "# check and modify the stopwords list\n",
    "# remove all the negate words form the list is actually not necessary because there should be no negate words in the token list now\n",
    "nltk_sw = set(stopwords.words('english')) - {\"not\", \"aren't\", \"don't\", \"weren't\", \"doesn't\", \"haven't\", \"wouldn't\", \"mightn't\", \"shan't\", \n",
    "                                             \"hadn't\", \"couldn't\", \"isn't\", \"wasn't\", \"won't\", \"hasn't\", \"shouldn't\", \"didn't\", \"needn't\", \"mustn't\"}\n",
    "print(nltk_sw)"
   ]
  },
  {
   "cell_type": "code",
   "execution_count": 40,
   "id": "38b8e483-efde-4193-848d-def6c4a82ce1",
   "metadata": {},
   "outputs": [
    {
     "name": "stdout",
     "output_type": "stream",
     "text": [
      "2940311\n",
      "2865731\n"
     ]
    }
   ],
   "source": [
    "# remove punctuation marks\n",
    "# This is the factor 3 I investigated, for more details, please the report\n",
    "def remove_punctuation_mark(token_list,target='a'):\n",
    "    token_list.sort()\n",
    "    word_range = searchRange(token_list, target)\n",
    "    del token_list[:word_range[0]+1]                       # delete all the tokens from the first token to the first 'a'\n",
    "\n",
    "remove_punctuation_mark(training_text_pos_tokens)\n",
    "remove_punctuation_mark(training_text_neg_tokens)\n",
    "print(len(training_text_pos_tokens))\n",
    "print(len(training_text_neg_tokens))"
   ]
  },
  {
   "cell_type": "code",
   "execution_count": 41,
   "id": "5f43d1c8-a59e-475b-8675-f60481136d7b",
   "metadata": {},
   "outputs": [
    {
     "name": "stdout",
     "output_type": "stream",
     "text": [
      "1564650\n",
      "1508417\n"
     ]
    }
   ],
   "source": [
    "# remove stopwords\n",
    "def remove_stop_words(token_list):\n",
    "    token_list.sort()\n",
    "    for word in nltk_sw:\n",
    "        word_range = searchRange(token_list, word)         # search the range of a specific word\n",
    "        if word_range[0] != -1:                            # if the word in nltk_sw does not exist in the token list, the range will be (-1,-1)\n",
    "            del token_list[word_range[0]:word_range[1]+1]  # delete all the same word in the token list\n",
    "            \n",
    "remove_stop_words(training_text_pos_tokens)\n",
    "remove_stop_words(training_text_neg_tokens)\n",
    "print(len(training_text_pos_tokens))\n",
    "print(len(training_text_neg_tokens))"
   ]
  },
  {
   "cell_type": "markdown",
   "id": "5b84f365-f79a-457f-90d6-738150b9c49b",
   "metadata": {},
   "source": [
    "### 2.4 Stemming  \n",
    "use porter stemer to stem tokens"
   ]
  },
  {
   "cell_type": "code",
   "execution_count": 42,
   "id": "de3ea509-a092-4db7-99b1-123cdafb8f70",
   "metadata": {},
   "outputs": [],
   "source": [
    "porter_stemer = stem.porter.PorterStemmer()"
   ]
  },
  {
   "cell_type": "code",
   "execution_count": 43,
   "id": "0a1a3304-086c-49b5-8edd-66aef87089ca",
   "metadata": {},
   "outputs": [],
   "source": [
    "training_text_pos_tokens_stm = [porter_stemer.stem(word) for word in training_text_pos_tokens]\n",
    "training_text_neg_tokens_stm = [porter_stemer.stem(word) for word in training_text_neg_tokens]"
   ]
  },
  {
   "cell_type": "code",
   "execution_count": null,
   "id": "3929b3df-b872-4df1-a5a4-456d1799a683",
   "metadata": {},
   "outputs": [],
   "source": [
    "# This is the factor 2 I investigated, for more details, please the report\n",
    "# training_text_pos_tokens_stm = [word_net_lemma.lemmatize(word) for word in training_text_pos_tokens]\n",
    "# training_text_neg_tokens_stm = [word_net_lemma.lemmatize(word) for word in training_text_neg_tokens]"
   ]
  },
  {
   "cell_type": "code",
   "execution_count": 44,
   "id": "b3c46be0-a688-43ff-bf91-2e0a555f0d81",
   "metadata": {},
   "outputs": [],
   "source": [
    "training_text_tokens_stm = training_text_pos_tokens_stm + training_text_neg_tokens_stm   \n",
    "training_text_tokens_stm_set = set(training_text_tokens_stm)"
   ]
  },
  {
   "cell_type": "code",
   "execution_count": 45,
   "id": "a4eb99f9-559b-440d-a584-38b02f5a47b5",
   "metadata": {},
   "outputs": [],
   "source": [
    "# count unigram frequency for each list\n",
    "def unigram_freq(token_list):\n",
    "    unigram_list = list(ngrams(token_list,1))\n",
    "    unigram_freq = collections.Counter(unigram_list)\n",
    "    return unigram_freq\n",
    "\n",
    "training_text_pos_tokens_stm_unigram_freq = unigram_freq(training_text_pos_tokens_stm)\n",
    "training_text_neg_tokens_stm_unigram_freq = unigram_freq(training_text_neg_tokens_stm)\n",
    "training_text_tokens_stm_unigram_freq = unigram_freq(training_text_tokens_stm)"
   ]
  },
  {
   "cell_type": "markdown",
   "id": "8c71e372-322d-4fdb-87e8-b08997c9104b",
   "metadata": {},
   "source": [
    "## 3. Training"
   ]
  },
  {
   "cell_type": "code",
   "execution_count": 46,
   "id": "f672cafa-d636-49ec-a76d-7e495e5b06de",
   "metadata": {},
   "outputs": [],
   "source": [
    "pos_count = len(training_set[training_set.label == 'pos'])\n",
    "neg_count = len(training_set[training_set.label == 'neg'])\n",
    "total = pos_count + neg_count\n",
    "P_pos = pos_count/total\n",
    "P_neg = neg_count/total\n",
    "V = len(training_text_tokens_stm_unigram_freq)                                  # vocabulary is the length of unigram frequency \n",
    "\n",
    "# the parameters are: a specific token; the 'pos' or the 'neg' token list; the unigram frequency of that list\n",
    "# add-k is the factor 1 I investigated, for more details, please the report\n",
    "def P_token_cls(token, stmed_token_list, unigram_freq):                         # to calculate P(word|class)\n",
    "    P_token_cls = (unigram_freq[(token,)]+500)/(len(stmed_token_list)+500*V)    # unigram_freq[(token,)] is the count of a specific token\n",
    "    return P_token_cls                                                          # len(stmed_token_list) is word count of a token list\n",
    "\n",
    "# calculate log probabilities of the words in a text and add them up\n",
    "# each test_text_tokens_stm is a target text to classify\n",
    "def cond_prob(test_text_tokens_stm):\n",
    "    log_pos_cond_prob = log_neg_cond_prob = log_unsup_cond_prob = 0             # initialize the log probability\n",
    "    for token in test_text_tokens_stm:                                          # for each token in the target text\n",
    "        if token in training_text_tokens_stm_set:                               # if it is also a token in the training set                                                \n",
    "            P_token_pos = P_token_cls(token, training_text_pos_tokens_stm, training_text_pos_tokens_stm_unigram_freq)   \n",
    "            P_token_neg = P_token_cls(token, training_text_neg_tokens_stm, training_text_neg_tokens_stm_unigram_freq)   \n",
    "            log_pos_cond_prob = log_pos_cond_prob + np.log(P_token_pos)         # calculate the log probability of that token\n",
    "            log_neg_cond_prob = log_neg_cond_prob + np.log(P_token_neg)         # and add all the log probabilities up\n",
    "    return log_pos_cond_prob, log_neg_cond_prob\n",
    "\n",
    "# a function to convert the target text to a stemmed token list\n",
    "def text_to_stmed_token_list(text):\n",
    "    text_tokens = word_tokenize(text)                                           # tokenize\n",
    "    retokenized_tokens = MWE_tokenizer.tokenize(text_tokens)                    # retokenize\n",
    "    text_tokens_stm = [porter_stemer.stem(word) for word in retokenized_tokens] # stemming\n",
    "    #text_tokens_stm = [word_net_lemma.lemmatize(word) for word in retokenized_tokens]\n",
    "    return text_tokens_stm  \n",
    "\n",
    "# the final step of classification\n",
    "def classify(log_pos_cond_prob, log_neg_cond_prob):\n",
    "    pos = log_pos_cond_prob + np.log(P_pos)\n",
    "    neg = log_neg_cond_prob + np.log(P_neg)   \n",
    "    if pos > neg:\n",
    "        res = 'pos'\n",
    "        return res\n",
    "    if neg > pos:\n",
    "        res = 'neg'\n",
    "        return res"
   ]
  },
  {
   "cell_type": "code",
   "execution_count": 47,
   "id": "a6e46da9-78b7-493a-b839-cf43bf8ba82e",
   "metadata": {},
   "outputs": [
    {
     "data": {
      "text/plain": [
       "array([[10148.,  1852.],\n",
       "       [ 2352., 10648.]])"
      ]
     },
     "execution_count": 47,
     "metadata": {},
     "output_type": "execute_result"
    }
   ],
   "source": [
    "# a classification pipeline. Take a target text and return its predicted label\n",
    "def classify_pipeline(target_text):\n",
    "    target_text_token_stm = text_to_stmed_token_list(target_text)               # text preprocessing\n",
    "    log_pos_cond_prob, log_neg_cond_prob = cond_prob(target_text_token_stm)     # calculate probabilities\n",
    "    res = classify(log_pos_cond_prob, log_neg_cond_prob)                        # classify\n",
    "    return res\n",
    "\n",
    "# for all test cases, predict their label and compare the results with tags\n",
    "cor_mat = np.zeros(4).reshape(2,2)    # horizontal: gold positive (the first dimension), vertical: system positive (the second dimension)\n",
    "for i in range(total):\n",
    "    tag = test_set['label'][i]\n",
    "    prediction = classify_pipeline(test_set['review'][i])\n",
    "    if tag == prediction == 'pos':               # tp\n",
    "        cor_mat[0][0] = cor_mat[0][0] + 1\n",
    "    elif tag == prediction == 'neg':             # tn\n",
    "        cor_mat[1][1] = cor_mat[1][1] + 1\n",
    "    elif tag == 'pos' and prediction == 'neg':   # fn\n",
    "        cor_mat[1][0] = cor_mat[1][0] + 1\n",
    "    elif tag == 'neg' and prediction == 'pos':   # fp\n",
    "        cor_mat[0][1] = cor_mat[0][1] + 1\n",
    "\n",
    "cor_mat   "
   ]
  },
  {
   "cell_type": "code",
   "execution_count": 48,
   "id": "9460abe9-2f4f-49c9-9389-a709e1e4e3d5",
   "metadata": {},
   "outputs": [
    {
     "data": {
      "text/html": [
       "<div>\n",
       "<style scoped>\n",
       "    .dataframe tbody tr th:only-of-type {\n",
       "        vertical-align: middle;\n",
       "    }\n",
       "\n",
       "    .dataframe tbody tr th {\n",
       "        vertical-align: top;\n",
       "    }\n",
       "\n",
       "    .dataframe thead th {\n",
       "        text-align: right;\n",
       "    }\n",
       "</style>\n",
       "<table border=\"1\" class=\"dataframe\">\n",
       "  <thead>\n",
       "    <tr style=\"text-align: right;\">\n",
       "      <th></th>\n",
       "      <th>gold positive</th>\n",
       "      <th>gold negative</th>\n",
       "    </tr>\n",
       "  </thead>\n",
       "  <tbody>\n",
       "    <tr>\n",
       "      <th>system positive</th>\n",
       "      <td>10148.0</td>\n",
       "      <td>1852.0</td>\n",
       "    </tr>\n",
       "    <tr>\n",
       "      <th>system negative</th>\n",
       "      <td>2352.0</td>\n",
       "      <td>10648.0</td>\n",
       "    </tr>\n",
       "  </tbody>\n",
       "</table>\n",
       "</div>"
      ],
      "text/plain": [
       "                 gold positive  gold negative\n",
       "system positive        10148.0         1852.0\n",
       "system negative         2352.0        10648.0"
      ]
     },
     "execution_count": 48,
     "metadata": {},
     "output_type": "execute_result"
    }
   ],
   "source": [
    "cor_mat_df = pd.DataFrame(cor_mat)\n",
    "cor_mat_df.columns = ['gold positive', 'gold negative']\n",
    "cor_mat_df.index = ['system positive', 'system negative']\n",
    "cor_mat_df"
   ]
  },
  {
   "cell_type": "markdown",
   "id": "68dda3db-346a-400b-9809-faaeff00ce68",
   "metadata": {},
   "source": [
    "## 4. Evaluation"
   ]
  },
  {
   "cell_type": "code",
   "execution_count": 49,
   "id": "94dd6402-7fa4-407a-b816-8f57a7cfe734",
   "metadata": {},
   "outputs": [
    {
     "name": "stdout",
     "output_type": "stream",
     "text": [
      "0.8456666666666667\n",
      "0.81184\n",
      "0.8284081632653061\n"
     ]
    }
   ],
   "source": [
    "precision = cor_mat[0][0] / (cor_mat[0][0] + cor_mat[0][1])                  # precision = tp / (tp + fp)\n",
    "recall = cor_mat[0][0] / (cor_mat[0][0] + cor_mat[1][0])                     # recall = tp / (tp + fn)\n",
    "F1 = (2*precision*recall) / (precision + recall)                             # F1 = 2*P*R / (P + R)\n",
    "print(precision)\n",
    "print(recall)\n",
    "print(F1)"
   ]
  },
  {
   "cell_type": "code",
   "execution_count": 50,
   "id": "24cdb8b9-0169-432d-9137-da59293836ae",
   "metadata": {},
   "outputs": [
    {
     "data": {
      "text/plain": [
       "Text(69.0, 0.5, 'Output')"
      ]
     },
     "execution_count": 50,
     "metadata": {},
     "output_type": "execute_result"
    },
    {
     "data": {
      "image/png": "[encoded data removed]",
      "text/plain": [
       "<Figure size 720x720 with 2 Axes>"
      ]
     },
     "metadata": {
      "needs_background": "light"
     },
     "output_type": "display_data"
    }
   ],
   "source": [
    "plt.figure(figsize=(10,10))                                                  # create a Figure object\n",
    "sns.heatmap(cor_mat_df,annot=True,fmt ='.2f',linewidths =0.5,color='blue')   # use heatmap function in Seaborn to plot the figure\n",
    "plt.xlabel('Label',fontsize=24)\n",
    "plt.ylabel('Output',fontsize=24)"
   ]
  },
  {
   "cell_type": "markdown",
   "id": "66c01ee8-8d84-4fb0-92b9-715578089466",
   "metadata": {},
   "source": [
    "***\n",
    "CHEN Chen a1819099, 16-Mar-2022"
   ]
  }
 ],
 "metadata": {
  "kernelspec": {
   "display_name": "Python 3 (ipykernel)",
   "language": "python",
   "name": "python3"
  },
  "language_info": {
   "codemirror_mode": {
    "name": "ipython",
    "version": 3
   },
   "file_extension": ".py",
   "mimetype": "text/x-python",
   "name": "python",
   "nbconvert_exporter": "python",
   "pygments_lexer": "ipython3",
   "version": "3.8.10"
  }
 },
 "nbformat": 4,
 "nbformat_minor": 5
}
